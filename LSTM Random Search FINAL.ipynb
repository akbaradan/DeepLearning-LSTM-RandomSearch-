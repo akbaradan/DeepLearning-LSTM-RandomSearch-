{
 "cells": [
  {
   "cell_type": "code",
   "execution_count": 62,
   "id": "3ff8104a",
   "metadata": {},
   "outputs": [],
   "source": [
    "import numpy as np\n",
    "import pandas as pd\n",
    "import matplotlib.pyplot as plt\n",
    "import tensorflow as tf\n",
    "from keras.models import Sequential\n",
    "from keras.layers import LSTM, Dense, Dropout, Input\n",
    "from keras.optimizers import Adam\n",
    "from sklearn.preprocessing import MinMaxScaler\n",
    "from sklearn.metrics import r2_score, mean_squared_error, mean_absolute_percentage_error\n",
    "\n",
    "import keras_tuner as kt"
   ]
  },
  {
   "cell_type": "code",
   "execution_count": 63,
   "id": "b9819c4d",
   "metadata": {},
   "outputs": [],
   "source": [
    "# Load data\n",
    "data = pd.read_csv('Dataset1.csv', parse_dates=['Tanggal'], dayfirst=True)"
   ]
  },
  {
   "cell_type": "code",
   "execution_count": 64,
   "id": "d8f9fc3c",
   "metadata": {},
   "outputs": [],
   "source": [
    "numeric_cols = ['Pembukaan', 'Tertinggi', 'Terendah', 'Terakhir']\n",
    "for col in numeric_cols:\n",
    "    data[col] = data[col].str.replace(',', '.').astype(float)"
   ]
  },
  {
   "cell_type": "code",
   "execution_count": 65,
   "id": "53ac2385",
   "metadata": {},
   "outputs": [],
   "source": [
    "# Mengganti tanda koma dengan titik dalam kolom Vol.\n",
    "data['Vol.'] = data['Vol.'].str.replace(',', '').str.replace('M', '').astype(float) * 1e6\n",
    "\n",
    "# Mengonversi kolom Change% menjadi desimal\n",
    "data['Perubahan%'] = data['Perubahan%'].str.replace(',', '.').str.replace('%', '').astype(float) / 100"
   ]
  },
  {
   "cell_type": "code",
   "execution_count": 66,
   "id": "cc0e4806",
   "metadata": {},
   "outputs": [],
   "source": [
    "# Preprocess data\n",
    "data['Tanggal'] = pd.to_datetime(data['Tanggal'])\n",
    "data.set_index('Tanggal', inplace=True)"
   ]
  },
  {
   "cell_type": "code",
   "execution_count": 67,
   "id": "98d814b1",
   "metadata": {},
   "outputs": [],
   "source": [
    "data = data.sort_values('Tanggal')"
   ]
  },
  {
   "cell_type": "code",
   "execution_count": 68,
   "id": "0053361e",
   "metadata": {},
   "outputs": [],
   "source": [
    "# Data Imputation\n",
    "df_unsampled = data.resample('D').asfreq().interpolate(method='linear')\n",
    "df_unsampled.reset_index(inplace=True)\n",
    "df_unsampled = df_unsampled.sort_values('Tanggal')"
   ]
  },
  {
   "cell_type": "code",
   "execution_count": 69,
   "id": "b1f6f871",
   "metadata": {},
   "outputs": [],
   "source": [
    "# Pilih fitur\n",
    "temp_X = df_unsampled.copy()\n",
    "temp_y = df_unsampled.copy()\n",
    "X = temp_X[['Pembukaan', 'Tertinggi', 'Terendah']].iloc[:-1,:]\n",
    "y = temp_y['Terakhir'].shift(-1).dropna()"
   ]
  },
  {
   "cell_type": "code",
   "execution_count": 70,
   "id": "e0ba541e",
   "metadata": {},
   "outputs": [],
   "source": [
    "y= pd.DataFrame(y)"
   ]
  },
  {
   "cell_type": "code",
   "execution_count": 71,
   "id": "87c99295",
   "metadata": {},
   "outputs": [],
   "source": [
    "X_train = X.copy()\n",
    "y_train = y.copy()\n",
    "X_test = X.copy()\n",
    "y_test = y.copy()"
   ]
  },
  {
   "cell_type": "code",
   "execution_count": 72,
   "id": "b460c477",
   "metadata": {},
   "outputs": [],
   "source": [
    "# Bagi data menjadi data pelatihan dan data pengujian\n",
    "X_train = X_train.drop(X_train[2993:].index)\n",
    "y_train = y_train.drop(y_train[2993:].index)\n",
    "X_test = X_test.drop(X_test[:-749].index)\n",
    "y_test = y_test.drop(y_test[:-749].index)\n",
    "\n",
    "X_train2 = X_train.copy()\n",
    "y_train2 = y_train.copy()\n",
    "X_test2 = X_test.copy()\n",
    "y_test2 = y_test.copy()"
   ]
  },
  {
   "cell_type": "code",
   "execution_count": 73,
   "id": "dbe9c0e3",
   "metadata": {},
   "outputs": [],
   "source": [
    "# Scaling Data\n",
    "scaler_X = MinMaxScaler()\n",
    "scaler_y = MinMaxScaler()\n",
    "X_train2 = scaler_X.fit_transform(X_train2)\n",
    "X_test2 = scaler_X.transform(X_test2)\n",
    "y_train2 = scaler_y.fit_transform(y_train2)\n",
    "y_test2 = scaler_y.transform(y_test2)"
   ]
  },
  {
   "cell_type": "code",
   "execution_count": 74,
   "id": "79f76db1",
   "metadata": {},
   "outputs": [],
   "source": [
    "n_val = int(0.2 * len(X_train2))  # 20% dari jumlah data pelatihan\n",
    "\n",
    "# Mengambil 20% data terakhir untuk validasi\n",
    "X_val_split = X_train2[-n_val:]\n",
    "y_val_split = y_train2[-n_val:]"
   ]
  },
  {
   "cell_type": "code",
   "execution_count": 75,
   "id": "bacb0788",
   "metadata": {},
   "outputs": [],
   "source": [
    "# Function to create dataset with given time step\n",
    "def create_dataset(dataset_X, dataset_y, time_step=1):\n",
    "    dataX, dataY = [], []\n",
    "    for i in range(len(dataset_X) - time_step):\n",
    "        dataX.append(dataset_X[i:(i + time_step), :])\n",
    "        dataY.append(dataset_y[i + time_step])\n",
    "    return np.array(dataX), np.array(dataY)\n",
    "\n",
    "time_step = 10\n",
    "X_train2, y_train2 = create_dataset(X_train2, y_train2, time_step)\n",
    "X_test2, y_test2 = create_dataset(X_test2, y_test2, time_step)\n",
    "X_val_split, y_val_split = create_dataset(X_val_split, y_val_split, time_step)"
   ]
  },
  {
   "cell_type": "code",
   "execution_count": 76,
   "id": "097606c1",
   "metadata": {},
   "outputs": [],
   "source": [
    "# Reshape input to be [samples, time steps, features]\n",
    "X_train2 = X_train2.reshape(X_train2.shape[0], X_train2.shape[1], X_train2.shape[2])\n",
    "X_test2 = X_test2.reshape(X_test2.shape[0], X_test2.shape[1], X_test2.shape[2])\n",
    "X_val_split = X_val_split.reshape(X_val_split.shape[0], X_val_split.shape[1],X_val_split.shape[2])"
   ]
  },
  {
   "cell_type": "code",
   "execution_count": 77,
   "id": "a34d2908",
   "metadata": {},
   "outputs": [
    {
     "name": "stdout",
     "output_type": "stream",
     "text": [
      "Reloading Tuner from kt_dir/GLD_price_prediction Finals/tuner0.json\n",
      "\n",
      "The hyperparameter search is complete. The optimal number of layers is 2.\n",
      "The optimal number of units in the layers are [96, 96].\n",
      "The optimal dropout rates are [0.1, 0.2].\n",
      "The optimal learning rate is 0.0021477111334815414.\n",
      "\n"
     ]
    }
   ],
   "source": [
    "def build_model(hp):\n",
    "    model = Sequential()\n",
    "    model.add(Input(shape=(X_train2.shape[1], X_train2.shape[2])))  # Menambahkan Input layer sebagai layer pertama\n",
    "\n",
    "    for i in range(hp.Int('n_layers', 1, 3)):\n",
    "        model.add(LSTM(units=hp.Int(f'units_{i}', min_value=32, max_value=256, step=32),\n",
    "                       return_sequences=True if i < hp.Int('n_layers', 1, 3) - 1 else False))\n",
    "        model.add(Dropout(rate=hp.Float(f'dropout_{i}', min_value=0.0, max_value=0.5, step=0.1)))\n",
    "\n",
    "    model.add(Dense(1))\n",
    "    \n",
    "    model.compile(optimizer=Adam(hp.Float('learning_rate', min_value=1e-4, max_value=1e-2, sampling='LOG')),\n",
    "                  loss='mean_squared_error')\n",
    "    return model\n",
    "\n",
    "tuner = kt.RandomSearch(\n",
    "    build_model,\n",
    "    objective='val_loss',\n",
    "    max_trials=10,\n",
    "    executions_per_trial=1,\n",
    "    directory='kt_dir',\n",
    "    project_name='GLD_price_prediction Finals')\n",
    "\n",
    "tuner.search(X_train2, y_train2, epochs=50, validation_split=0.2, verbose=2)\n",
    "\n",
    "# Get the optimal hyperparameters\n",
    "best_hps = tuner.get_best_hyperparameters(num_trials=1)[0]\n",
    "print(f\"\"\"\n",
    "The hyperparameter search is complete. The optimal number of layers is {best_hps.get('n_layers')}.\n",
    "The optimal number of units in the layers are {[best_hps.get(f'units_{i}') for i in range(best_hps.get('n_layers'))]}.\n",
    "The optimal dropout rates are {[best_hps.get(f'dropout_{i}') for i in range(best_hps.get('n_layers'))]}.\n",
    "The optimal learning rate is {best_hps.get('learning_rate')}.\n",
    "\"\"\")"
   ]
  },
  {
   "cell_type": "code",
   "execution_count": 78,
   "id": "9b9ee414",
   "metadata": {},
   "outputs": [],
   "source": [
    "# Build the model with the optimal hyperparameters and train it\n",
    "model = tuner.hypermodel.build(best_hps)"
   ]
  },
  {
   "cell_type": "code",
   "execution_count": 79,
   "id": "ab9d3d57",
   "metadata": {},
   "outputs": [
    {
     "name": "stdout",
     "output_type": "stream",
     "text": [
      "Epoch 1/50\n",
      "75/75 - 4s - 56ms/step - loss: 0.0030 - val_loss: 0.0024\n",
      "Epoch 2/50\n",
      "75/75 - 1s - 11ms/step - loss: 9.0270e-04 - val_loss: 0.0028\n",
      "Epoch 3/50\n",
      "75/75 - 1s - 11ms/step - loss: 9.5992e-04 - val_loss: 0.0024\n",
      "Epoch 4/50\n",
      "75/75 - 1s - 11ms/step - loss: 9.0738e-04 - val_loss: 0.0171\n",
      "Epoch 5/50\n",
      "75/75 - 1s - 11ms/step - loss: 0.0011 - val_loss: 0.0016\n",
      "Epoch 6/50\n",
      "75/75 - 1s - 12ms/step - loss: 7.7582e-04 - val_loss: 8.3738e-04\n",
      "Epoch 7/50\n",
      "75/75 - 1s - 11ms/step - loss: 7.9871e-04 - val_loss: 0.0011\n",
      "Epoch 8/50\n",
      "75/75 - 1s - 11ms/step - loss: 7.0256e-04 - val_loss: 0.0013\n",
      "Epoch 9/50\n",
      "75/75 - 1s - 11ms/step - loss: 5.9554e-04 - val_loss: 0.0013\n",
      "Epoch 10/50\n",
      "75/75 - 1s - 11ms/step - loss: 5.9303e-04 - val_loss: 0.0018\n",
      "Epoch 11/50\n",
      "75/75 - 1s - 11ms/step - loss: 5.7311e-04 - val_loss: 8.5112e-04\n",
      "Epoch 12/50\n",
      "75/75 - 1s - 11ms/step - loss: 5.3908e-04 - val_loss: 8.1413e-04\n",
      "Epoch 13/50\n",
      "75/75 - 1s - 11ms/step - loss: 5.0345e-04 - val_loss: 0.0017\n",
      "Epoch 14/50\n",
      "75/75 - 1s - 11ms/step - loss: 5.6654e-04 - val_loss: 0.0029\n",
      "Epoch 15/50\n",
      "75/75 - 1s - 11ms/step - loss: 5.3041e-04 - val_loss: 6.3040e-04\n",
      "Epoch 16/50\n",
      "75/75 - 1s - 11ms/step - loss: 4.7780e-04 - val_loss: 7.1350e-04\n",
      "Epoch 17/50\n",
      "75/75 - 1s - 11ms/step - loss: 4.5837e-04 - val_loss: 0.0018\n",
      "Epoch 18/50\n",
      "75/75 - 1s - 11ms/step - loss: 4.7965e-04 - val_loss: 6.0420e-04\n",
      "Epoch 19/50\n",
      "75/75 - 1s - 11ms/step - loss: 4.2714e-04 - val_loss: 9.9148e-04\n",
      "Epoch 20/50\n",
      "75/75 - 1s - 11ms/step - loss: 4.0441e-04 - val_loss: 8.5484e-04\n",
      "Epoch 21/50\n",
      "75/75 - 1s - 11ms/step - loss: 4.5853e-04 - val_loss: 6.9243e-04\n",
      "Epoch 22/50\n",
      "75/75 - 1s - 11ms/step - loss: 4.2781e-04 - val_loss: 0.0047\n",
      "Epoch 23/50\n",
      "75/75 - 1s - 11ms/step - loss: 4.1706e-04 - val_loss: 5.7567e-04\n",
      "Epoch 24/50\n",
      "75/75 - 1s - 11ms/step - loss: 3.8494e-04 - val_loss: 6.2898e-04\n",
      "Epoch 25/50\n",
      "75/75 - 1s - 11ms/step - loss: 4.6240e-04 - val_loss: 0.0029\n",
      "Epoch 26/50\n",
      "75/75 - 1s - 11ms/step - loss: 4.0212e-04 - val_loss: 6.4569e-04\n",
      "Epoch 27/50\n",
      "75/75 - 1s - 11ms/step - loss: 3.7387e-04 - val_loss: 8.4355e-04\n",
      "Epoch 28/50\n",
      "75/75 - 1s - 11ms/step - loss: 3.8588e-04 - val_loss: 6.6944e-04\n",
      "Epoch 29/50\n",
      "75/75 - 1s - 11ms/step - loss: 3.7840e-04 - val_loss: 0.0025\n",
      "Epoch 30/50\n",
      "75/75 - 1s - 11ms/step - loss: 3.6563e-04 - val_loss: 5.0162e-04\n",
      "Epoch 31/50\n",
      "75/75 - 1s - 11ms/step - loss: 3.7368e-04 - val_loss: 6.5041e-04\n",
      "Epoch 32/50\n",
      "75/75 - 1s - 11ms/step - loss: 3.1854e-04 - val_loss: 5.1089e-04\n",
      "Epoch 33/50\n",
      "75/75 - 1s - 11ms/step - loss: 3.3101e-04 - val_loss: 5.2707e-04\n",
      "Epoch 34/50\n",
      "75/75 - 1s - 11ms/step - loss: 3.2602e-04 - val_loss: 0.0015\n",
      "Epoch 35/50\n",
      "75/75 - 1s - 11ms/step - loss: 4.1011e-04 - val_loss: 4.8864e-04\n",
      "Epoch 36/50\n",
      "75/75 - 1s - 11ms/step - loss: 3.4157e-04 - val_loss: 7.5126e-04\n",
      "Epoch 37/50\n",
      "75/75 - 1s - 11ms/step - loss: 3.6796e-04 - val_loss: 5.1702e-04\n",
      "Epoch 38/50\n",
      "75/75 - 1s - 11ms/step - loss: 3.2704e-04 - val_loss: 0.0016\n",
      "Epoch 39/50\n",
      "75/75 - 1s - 11ms/step - loss: 3.5651e-04 - val_loss: 6.6241e-04\n",
      "Epoch 40/50\n",
      "75/75 - 1s - 11ms/step - loss: 3.9512e-04 - val_loss: 5.4882e-04\n",
      "Epoch 41/50\n",
      "75/75 - 1s - 11ms/step - loss: 3.1782e-04 - val_loss: 0.0012\n",
      "Epoch 42/50\n",
      "75/75 - 1s - 13ms/step - loss: 3.4057e-04 - val_loss: 5.7425e-04\n",
      "Epoch 43/50\n",
      "75/75 - 1s - 13ms/step - loss: 3.2286e-04 - val_loss: 4.9214e-04\n",
      "Epoch 44/50\n",
      "75/75 - 1s - 12ms/step - loss: 3.2448e-04 - val_loss: 5.3473e-04\n",
      "Epoch 45/50\n",
      "75/75 - 1s - 11ms/step - loss: 3.4650e-04 - val_loss: 5.3439e-04\n",
      "Epoch 46/50\n",
      "75/75 - 1s - 11ms/step - loss: 3.3449e-04 - val_loss: 0.0015\n",
      "Epoch 47/50\n",
      "75/75 - 1s - 11ms/step - loss: 3.7047e-04 - val_loss: 0.0019\n",
      "Epoch 48/50\n",
      "75/75 - 1s - 11ms/step - loss: 3.6160e-04 - val_loss: 4.9671e-04\n",
      "Epoch 49/50\n",
      "75/75 - 1s - 12ms/step - loss: 3.2220e-04 - val_loss: 0.0019\n",
      "Epoch 50/50\n",
      "75/75 - 1s - 12ms/step - loss: 3.6363e-04 - val_loss: 5.5109e-04\n"
     ]
    }
   ],
   "source": [
    "history = model.fit(X_train2, y_train2, epochs=50, validation_split=0.2, verbose=2)"
   ]
  },
  {
   "cell_type": "code",
   "execution_count": 80,
   "id": "2226d729",
   "metadata": {},
   "outputs": [
    {
     "name": "stdout",
     "output_type": "stream",
     "text": [
      "\u001b[1m19/19\u001b[0m \u001b[32m━━━━━━━━━━━━━━━━━━━━\u001b[0m\u001b[37m\u001b[0m \u001b[1m1s\u001b[0m 22ms/step\n"
     ]
    }
   ],
   "source": [
    "val_pred = model.predict(X_val_split)"
   ]
  },
  {
   "cell_type": "code",
   "execution_count": 81,
   "id": "3b446dfb",
   "metadata": {},
   "outputs": [],
   "source": [
    "mse_val = mean_squared_error(y_val_split, val_pred)\n",
    "r2_val = r2_score(y_val_split, val_pred)\n",
    "mape_val = mean_absolute_percentage_error(y_val_split, val_pred)"
   ]
  },
  {
   "cell_type": "code",
   "execution_count": 82,
   "id": "fc17fa85",
   "metadata": {},
   "outputs": [
    {
     "name": "stdout",
     "output_type": "stream",
     "text": [
      "MSE pada data validasi: 0.0005431415494335292\n",
      "R-squared pada data validasi: 0.8918294175530727\n",
      "MAPE pada data validasi: 0.02244339356345986\n"
     ]
    }
   ],
   "source": [
    "print(f'MSE pada data validasi: {mse_val}')\n",
    "print(f'R-squared pada data validasi: {r2_val}')\n",
    "print(f'MAPE pada data validasi: {mape_val}')"
   ]
  },
  {
   "cell_type": "code",
   "execution_count": 83,
   "id": "677ff49f",
   "metadata": {},
   "outputs": [
    {
     "name": "stdout",
     "output_type": "stream",
     "text": [
      "\u001b[1m24/24\u001b[0m \u001b[32m━━━━━━━━━━━━━━━━━━━━\u001b[0m\u001b[37m\u001b[0m \u001b[1m0s\u001b[0m 4ms/step\n",
      "MSE: 0.000461477103888982\n",
      "R-Squared: 0.9686393999631742\n",
      "MAPE: 0.02134172356444071\n"
     ]
    }
   ],
   "source": [
    "# Make prediction\n",
    "y_pred = model.predict(X_test2)\n",
    "\n",
    "# Evaluate the model\n",
    "mse = mean_squared_error(y_test2, y_pred)\n",
    "print(f'MSE: {mse}')\n",
    "\n",
    "# Calculate R-Squared\n",
    "r2 = r2_score(y_test2, y_pred)\n",
    "print(f'R-Squared: {r2}')\n",
    "\n",
    "# Calculate MAPE\n",
    "mape = mean_absolute_percentage_error(y_test2, y_pred)\n",
    "print(f'MAPE: {mape}')"
   ]
  },
  {
   "cell_type": "code",
   "execution_count": 84,
   "id": "6abf4769",
   "metadata": {},
   "outputs": [],
   "source": [
    "y_pred = scaler_y.inverse_transform(y_pred)"
   ]
  },
  {
   "cell_type": "code",
   "execution_count": 85,
   "id": "272fa681",
   "metadata": {},
   "outputs": [],
   "source": [
    "y_test2 = scaler_y.inverse_transform(y_test2)"
   ]
  },
  {
   "cell_type": "code",
   "execution_count": 86,
   "id": "b1729654",
   "metadata": {},
   "outputs": [],
   "source": [
    "y_pred = pd.DataFrame(y_pred, columns=['Prediksi'])"
   ]
  },
  {
   "cell_type": "code",
   "execution_count": 87,
   "id": "4b2a2285",
   "metadata": {},
   "outputs": [],
   "source": [
    "df_pred = df_unsampled.drop(['Terakhir', 'Pembukaan', 'Tertinggi', 'Terendah', 'Vol.', 'Perubahan%'], axis=1)\n",
    "df_pred = df_pred.iloc[1:]\n",
    "df_pred = df_pred.reset_index(drop=True)\n",
    "df_pred = df_pred.drop(df_pred[:-749].index)"
   ]
  },
  {
   "cell_type": "code",
   "execution_count": 88,
   "id": "ad8857ef",
   "metadata": {},
   "outputs": [],
   "source": [
    "df_pred = df_pred['Tanggal'].reset_index()"
   ]
  },
  {
   "cell_type": "code",
   "execution_count": 89,
   "id": "f8d9cbd5",
   "metadata": {},
   "outputs": [],
   "source": [
    "preds = pd.concat([df_pred, y_pred], axis=1)\n",
    "preds = preds.drop(['index'], axis=1)"
   ]
  },
  {
   "cell_type": "code",
   "execution_count": 90,
   "id": "36ec9a0d",
   "metadata": {},
   "outputs": [
    {
     "data": {
      "image/png": "[encoded data removed]",
      "text/plain": [
       "<Figure size 1008x504 with 1 Axes>"
      ]
     },
     "metadata": {
      "needs_background": "light"
     },
     "output_type": "display_data"
    }
   ],
   "source": [
    "import seaborn as sns\n",
    "plt.figure(figsize=(14, 7))\n",
    "plt.plot(pd.to_datetime(df_unsampled['Tanggal']), df_unsampled['Terakhir'], label='Nilai Aktual')\n",
    "plt.plot(pd.to_datetime(preds['Tanggal']),preds['Prediksi'], label='Hasil Prediksi', linestyle='-') # Use 'Prediksi Harga' instead of 'y_pred'\n",
    "plt.xlabel('Tanggal')\n",
    "plt.ylabel('Harga Terakhir')\n",
    "plt.title('Perbandingan Nilai Aktual dan Hasil Prediksi Harga Emas untuk Model 2')\n",
    "plt.legend()\n",
    "plt.grid(True)\n",
    "plt.show()"
   ]
  },
  {
   "cell_type": "code",
   "execution_count": 92,
   "id": "2cfc6de0",
   "metadata": {},
   "outputs": [
    {
     "name": "stdout",
     "output_type": "stream",
     "text": [
      "\u001b[1m117/117\u001b[0m \u001b[32m━━━━━━━━━━━━━━━━━━━━\u001b[0m\u001b[37m\u001b[0m \u001b[1m1s\u001b[0m 4ms/step\n"
     ]
    }
   ],
   "source": [
    "# Buat dataset untuk prediksi seluruh data\n",
    "X_full = scaler_X.transform(X)\n",
    "y_full = scaler_y.transform(y)\n",
    "\n",
    "X_full, y_full = create_dataset(X_full, y_full, time_step)\n",
    "X_full = X_full.reshape(X_full.shape[0], X_full.shape[1], X_full.shape[2])\n",
    "\n",
    "# Make predictions on full dataset\n",
    "y_pred_full = model.predict(X_full)\n",
    "\n",
    "# Inverse transform predictions\n",
    "y_pred_full = scaler_y.inverse_transform(y_pred_full)\n",
    "\n",
    "# Simpan hasil prediksi ke dalam CSV\n",
    "predictions = pd.DataFrame(y_pred_full, columns=['Predicted_Terakhir'])\n",
    "predictions.to_csv('predicted_Terakhir_LSTM-RandomSearch.csv', index=False)"
   ]
  },
  {
   "cell_type": "code",
   "execution_count": 94,
   "id": "82af1f03",
   "metadata": {},
   "outputs": [],
   "source": [
    "import pandas as pd\n",
    "import numpy as np\n",
    "# Buat kolom 'Terakhir_pred' dengan nilai NaN\n",
    "df_unsampled['Terakhir_pred'] = np.nan\n",
    "\n",
    "# Pastikan panjang y_pred_full sesuai dengan panjang df_unsampled\n",
    "if len(y_pred_full) <= len(df_unsampled):\n",
    "    # Masukkan hasil prediksi ke kolom 'Terakhir_pred' menggunakan iloc\n",
    "    df_unsampled.iloc[-len(y_pred_full):, df_unsampled.columns.get_loc('Terakhir_pred')] = y_pred_full.flatten()\n",
    "else:\n",
    "    raise ValueError(\"Panjang y_pred_full lebih panjang dari df_unsampled\")\n",
    "\n",
    "# Simpan DataFrame dengan kolom prediksi ke dalam CSV\n",
    "df_unsampled.to_csv('data_dengan_prediksi.csv', index=False)"
   ]
  },
  {
   "cell_type": "code",
   "execution_count": 96,
   "id": "f9c5cd3d",
   "metadata": {},
   "outputs": [
    {
     "name": "stdout",
     "output_type": "stream",
     "text": [
      "\u001b[1m1/1\u001b[0m \u001b[32m━━━━━━━━━━━━━━━━━━━━\u001b[0m\u001b[37m\u001b[0m \u001b[1m0s\u001b[0m 22ms/step\n",
      "Prediksi harga penutupan (Close) untuk data simulasi: [[119.75046]]\n"
     ]
    }
   ],
   "source": [
    "# Simulasi data baru\n",
    "simulated_data = pd.DataFrame({\n",
    "    'Pembukaan': [120.54],\n",
    "    'Tertinggi': [121.06],\n",
    "    'Terendah': [119.72]\n",
    "})\n",
    "\n",
    "# Normalisasi data simulasi\n",
    "simulated_data = scaler_X.transform(simulated_data)\n",
    "\n",
    "# Reshape input data untuk prediksi\n",
    "simulated_data = simulated_data.reshape(1, simulated_data.shape[0], simulated_data.shape[1])\n",
    "\n",
    "# Prediksi harga penutupan menggunakan model yang sudah dilatih\n",
    "predicted_close = model.predict(simulated_data)\n",
    "\n",
    "# Denormalisasi hasil prediksi\n",
    "predicted_close = scaler_y.inverse_transform(predicted_close)\n",
    "\n",
    "print(f'Prediksi harga penutupan (Close) untuk data simulasi: {predicted_close}')"
   ]
  },
  {
   "cell_type": "code",
   "execution_count": null,
   "id": "d000aff4",
   "metadata": {},
   "outputs": [],
   "source": []
  }
 ],
 "metadata": {
  "kernelspec": {
   "display_name": "Python 3 (ipykernel)",
   "language": "python",
   "name": "python3"
  },
  "language_info": {
   "codemirror_mode": {
    "name": "ipython",
    "version": 3
   },
   "file_extension": ".py",
   "mimetype": "text/x-python",
   "name": "python",
   "nbconvert_exporter": "python",
   "pygments_lexer": "ipython3",
   "version": "3.10.4"
  }
 },
 "nbformat": 4,
 "nbformat_minor": 5
}
